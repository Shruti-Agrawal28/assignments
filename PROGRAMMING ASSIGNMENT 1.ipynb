{
 "cells": [
  {
   "cell_type": "code",
   "execution_count": null,
   "id": "31040e46",
   "metadata": {},
   "outputs": [],
   "source": [
    "1. Write a Python program to print \"Hello Python\"?\n",
    "2. Write a Python program to do arithmetical operations addition and division?\n",
    "3. Write a Python program to find the area of a triangle?\n",
    "4. Write a Python program to swap two variables?\n",
    "5. Write a Python program to generate a random number?"
   ]
  },
  {
   "cell_type": "code",
   "execution_count": 1,
   "id": "d9c5cde8",
   "metadata": {},
   "outputs": [
    {
     "name": "stdout",
     "output_type": "stream",
     "text": [
      "Hello Python\n"
     ]
    }
   ],
   "source": [
    "print(\"Hello Python\")"
   ]
  },
  {
   "cell_type": "code",
   "execution_count": 8,
   "id": "40d8743e",
   "metadata": {},
   "outputs": [],
   "source": [
    "def add_value(*args):\n",
    "    print(sum(args))"
   ]
  },
  {
   "cell_type": "code",
   "execution_count": 3,
   "id": "6a117ea0",
   "metadata": {},
   "outputs": [],
   "source": [
    "def divide(a, b):\n",
    "    try:\n",
    "        return int(a)/int(b)\n",
    "    except Exception as e:\n",
    "        print(e)"
   ]
  },
  {
   "cell_type": "code",
   "execution_count": 4,
   "id": "c46a04d2",
   "metadata": {},
   "outputs": [],
   "source": [
    "def triangle_area(a, b):\n",
    "    return 0.5 * a * b"
   ]
  },
  {
   "cell_type": "code",
   "execution_count": 5,
   "id": "257c28ac",
   "metadata": {},
   "outputs": [],
   "source": [
    "def swap(a, b):\n",
    "    a = a + b \n",
    "    b = a - b\n",
    "    a = a - b\n",
    "    print(\"a: \", a)\n",
    "    print(\"b: \", b)"
   ]
  },
  {
   "cell_type": "code",
   "execution_count": 7,
   "id": "df53ef80",
   "metadata": {},
   "outputs": [],
   "source": [
    "import numpy as np\n",
    "def random_num(a):\n",
    "    return np.random.randint(a)\n",
    "    "
   ]
  }
 ],
 "metadata": {
  "kernelspec": {
   "display_name": "Python 3 (ipykernel)",
   "language": "python",
   "name": "python3"
  },
  "language_info": {
   "codemirror_mode": {
    "name": "ipython",
    "version": 3
   },
   "file_extension": ".py",
   "mimetype": "text/x-python",
   "name": "python",
   "nbconvert_exporter": "python",
   "pygments_lexer": "ipython3",
   "version": "3.9.12"
  }
 },
 "nbformat": 4,
 "nbformat_minor": 5
}
