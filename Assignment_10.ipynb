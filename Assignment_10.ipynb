{
 "cells": [
  {
   "cell_type": "code",
   "execution_count": null,
   "id": "a71bbdd5",
   "metadata": {},
   "outputs": [],
   "source": [
    "1. How do you distinguish between shutil.copy() and shutil.copytree()?\n",
    "ANS. shutil.copy( ) – it copies a single file.\n",
    "Shutil.copytree( ) – it copies the whole folder."
   ]
  },
  {
   "cell_type": "code",
   "execution_count": null,
   "id": "293b5543",
   "metadata": {},
   "outputs": [],
   "source": [
    "2. What function is used to rename files??\n",
    "ANS. shutil.move( )"
   ]
  },
  {
   "cell_type": "code",
   "execution_count": null,
   "id": "48b88a8b",
   "metadata": {},
   "outputs": [],
   "source": [
    "3. What is the difference between the delete functions in the send2trash and shutil modules?\n",
    "ANS. send2trash functions moves the deleted file to the recycle bin whereas the shutil module deletes the file permanently. "
   ]
  },
  {
   "cell_type": "code",
   "execution_count": null,
   "id": "367e8972",
   "metadata": {},
   "outputs": [],
   "source": [
    "4.ZipFile objects have a close() method just like File objects’ close() method. What ZipFile method is equivalent to File objects’ open() method?\n",
    "ANS. zipfile.ZipFile( )"
   ]
  },
  {
   "cell_type": "code",
   "execution_count": null,
   "id": "13312316",
   "metadata": {},
   "outputs": [],
   "source": [
    "5. Create a programme that searches a folder tree for files with a certain file extension\n",
    "(such as .pdf or .jpg). Copy these files from whatever location they are in to a new folder."
   ]
  },
  {
   "cell_type": "code",
   "execution_count": 1,
   "id": "31b22567",
   "metadata": {},
   "outputs": [],
   "source": [
    "import os, shutil"
   ]
  },
  {
   "cell_type": "code",
   "execution_count": 46,
   "id": "0c28e142",
   "metadata": {},
   "outputs": [],
   "source": [
    "def search_file(folder, extensions):\n",
    "    folder = os.path.abspath(folder)\n",
    "    for i, j, k in os.walk(folder):\n",
    "        for l in k:            \n",
    "            name, extension = os.path.splitext(l)\n",
    "            if extension == extensions:                \n",
    "                print(i+os.path.sep + l)"
   ]
  }
 ],
 "metadata": {
  "kernelspec": {
   "display_name": "Python 3 (ipykernel)",
   "language": "python",
   "name": "python3"
  },
  "language_info": {
   "codemirror_mode": {
    "name": "ipython",
    "version": 3
   },
   "file_extension": ".py",
   "mimetype": "text/x-python",
   "name": "python",
   "nbconvert_exporter": "python",
   "pygments_lexer": "ipython3",
   "version": "3.9.12"
  }
 },
 "nbformat": 4,
 "nbformat_minor": 5
}
