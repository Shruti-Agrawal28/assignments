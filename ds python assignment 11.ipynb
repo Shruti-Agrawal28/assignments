{
 "cells": [
  {
   "cell_type": "markdown",
   "id": "86a2eb11",
   "metadata": {},
   "source": [
    "**1. Create an assert statement that throws an AssertionError if the variable spam is a negative\n",
    "integer.**"
   ]
  },
  {
   "cell_type": "code",
   "execution_count": 4,
   "id": "f23cd66d",
   "metadata": {
    "scrolled": true
   },
   "outputs": [
    {
     "ename": "AssertionError",
     "evalue": "spam cannot be a negative integer",
     "output_type": "error",
     "traceback": [
      "\u001b[1;31m---------------------------------------------------------------------------\u001b[0m",
      "\u001b[1;31mAssertionError\u001b[0m                            Traceback (most recent call last)",
      "Input \u001b[1;32mIn [4]\u001b[0m, in \u001b[0;36m<cell line: 2>\u001b[1;34m()\u001b[0m\n\u001b[0;32m      1\u001b[0m spam \u001b[38;5;241m=\u001b[39m \u001b[38;5;241m-\u001b[39m\u001b[38;5;241m5\u001b[39m\n\u001b[1;32m----> 2\u001b[0m \u001b[38;5;28;01massert\u001b[39;00m spam \u001b[38;5;241m>\u001b[39m\u001b[38;5;241m=\u001b[39m \u001b[38;5;241m0\u001b[39m, \u001b[38;5;124m\"\u001b[39m\u001b[38;5;124mspam cannot be a negative integer\u001b[39m\u001b[38;5;124m\"\u001b[39m\n",
      "\u001b[1;31mAssertionError\u001b[0m: spam cannot be a negative integer"
     ]
    }
   ],
   "source": [
    "spam = -5\n",
    "assert spam >= 0, \"spam cannot be a negative integer\"\n"
   ]
  },
  {
   "cell_type": "markdown",
   "id": "adeeca03",
   "metadata": {},
   "source": [
    "**2. Write an assert statement that triggers an AssertionError if the variables eggs and bacon contain\n",
    "strings that are the same as each other, even if their cases are different (that is, &#39;hello&#39; and &#39;hello&#39; are\n",
    "considered the same, and &#39;goodbye&#39; and &#39;GOODbye&#39; are also considered the same).**"
   ]
  },
  {
   "cell_type": "code",
   "execution_count": 5,
   "id": "4ff37b94",
   "metadata": {},
   "outputs": [
    {
     "ename": "AssertionError",
     "evalue": "eggs and bacon cannot be the same",
     "output_type": "error",
     "traceback": [
      "\u001b[1;31m---------------------------------------------------------------------------\u001b[0m",
      "\u001b[1;31mAssertionError\u001b[0m                            Traceback (most recent call last)",
      "Input \u001b[1;32mIn [5]\u001b[0m, in \u001b[0;36m<cell line: 3>\u001b[1;34m()\u001b[0m\n\u001b[0;32m      1\u001b[0m eggs \u001b[38;5;241m=\u001b[39m \u001b[38;5;124m\"\u001b[39m\u001b[38;5;124mHello\u001b[39m\u001b[38;5;124m\"\u001b[39m\n\u001b[0;32m      2\u001b[0m bacon \u001b[38;5;241m=\u001b[39m \u001b[38;5;124m\"\u001b[39m\u001b[38;5;124mHELLO\u001b[39m\u001b[38;5;124m\"\u001b[39m\n\u001b[1;32m----> 3\u001b[0m \u001b[38;5;28;01massert\u001b[39;00m eggs\u001b[38;5;241m.\u001b[39mlower() \u001b[38;5;241m!=\u001b[39m bacon\u001b[38;5;241m.\u001b[39mlower(), \u001b[38;5;124m\"\u001b[39m\u001b[38;5;124meggs and bacon cannot be the same\u001b[39m\u001b[38;5;124m\"\u001b[39m\n",
      "\u001b[1;31mAssertionError\u001b[0m: eggs and bacon cannot be the same"
     ]
    }
   ],
   "source": [
    "eggs = \"Hello\"\n",
    "bacon = \"HELLO\"\n",
    "assert eggs.lower() != bacon.lower(), \"eggs and bacon cannot be the same\"\n"
   ]
  },
  {
   "cell_type": "markdown",
   "id": "a1fdb7ca",
   "metadata": {},
   "source": [
    "**3. Create an assert statement that throws an AssertionError every time.**\n"
   ]
  },
  {
   "cell_type": "code",
   "execution_count": 6,
   "id": "6f34477f",
   "metadata": {},
   "outputs": [
    {
     "ename": "AssertionError",
     "evalue": "This assert statement always triggers an AssertionError",
     "output_type": "error",
     "traceback": [
      "\u001b[1;31m---------------------------------------------------------------------------\u001b[0m",
      "\u001b[1;31mAssertionError\u001b[0m                            Traceback (most recent call last)",
      "Input \u001b[1;32mIn [6]\u001b[0m, in \u001b[0;36m<cell line: 1>\u001b[1;34m()\u001b[0m\n\u001b[1;32m----> 1\u001b[0m \u001b[38;5;28;01massert\u001b[39;00m \u001b[38;5;28;01mFalse\u001b[39;00m, \u001b[38;5;124m\"\u001b[39m\u001b[38;5;124mThis assert statement always triggers an AssertionError\u001b[39m\u001b[38;5;124m\"\u001b[39m\n",
      "\u001b[1;31mAssertionError\u001b[0m: This assert statement always triggers an AssertionError"
     ]
    }
   ],
   "source": [
    "assert False, \"This assert statement always triggers an AssertionError\"\n"
   ]
  },
  {
   "cell_type": "markdown",
   "id": "c15c6131",
   "metadata": {},
   "source": [
    "**4. What are the two lines that must be present in your software in order to call logging.debug()?**\n"
   ]
  },
  {
   "cell_type": "code",
   "execution_count": 7,
   "id": "bf24d4f4",
   "metadata": {},
   "outputs": [],
   "source": [
    "import logging\n",
    "logging.basicConfig(level=logging.DEBUG)\n"
   ]
  },
  {
   "cell_type": "markdown",
   "id": "1a4d1872",
   "metadata": {},
   "source": [
    "**5. What are the two lines that your program must have in order to have logging.debug() send a\n",
    "logging message to a file named programLog.txt?**"
   ]
  },
  {
   "cell_type": "code",
   "execution_count": 8,
   "id": "3036c85e",
   "metadata": {},
   "outputs": [],
   "source": [
    "import logging\n",
    "logging.basicConfig(filename='programLog.txt', level=logging.DEBUG)\n"
   ]
  },
  {
   "cell_type": "markdown",
   "id": "fbeff420",
   "metadata": {},
   "source": [
    " **6. What are the five levels of logging?**\n"
   ]
  },
  {
   "cell_type": "markdown",
   "id": "11de2794",
   "metadata": {},
   "source": [
    "The five levels of logging, in increasing order of severity, are:\n",
    "a.DEBUG\n",
    "\n",
    "b.INFO\n",
    "\n",
    "c.WARNING\n",
    "\n",
    "d.ERROR\n",
    " \n",
    "e.CRITICAL"
   ]
  },
  {
   "cell_type": "markdown",
   "id": "64dc2e98",
   "metadata": {},
   "source": [
    "**7. What line of code would you add to your software to disable all logging messages?**\n"
   ]
  },
  {
   "cell_type": "code",
   "execution_count": 9,
   "id": "fb9b05fa",
   "metadata": {},
   "outputs": [],
   "source": [
    "import logging\n",
    "logging.disable(logging.CRITICAL)\n"
   ]
  },
  {
   "cell_type": "markdown",
   "id": "84e4f9ea",
   "metadata": {},
   "source": [
    "**8.Why is using logging messages better than using print() to display the same message?**"
   ]
  },
  {
   "cell_type": "markdown",
   "id": "4a531e32",
   "metadata": {},
   "source": [
    "Using logging messages is better than using print() to display the same message because:\n",
    "Logging messages can be easily enabled or disabled without modifying the code.\n",
    "Logging messages can be directed to different outputs (console, file, network, etc.).\n",
    "Logging messages can include timestamps, severity levels, and other useful information.\n",
    "Logging allows for more granular control and filtering of messages."
   ]
  },
  {
   "cell_type": "markdown",
   "id": "0c2a70fa",
   "metadata": {},
   "source": [
    "**9. What are the differences between the Step Over, Step In, and Step Out buttons in the debugger?**\n",
    " "
   ]
  },
  {
   "cell_type": "markdown",
   "id": "a3df582d",
   "metadata": {},
   "source": [
    "The differences between the Step Over, Step In, and Step Out buttons in the debugger are as follows:\n",
    "Step Over: Executes the current line and moves to the next line in the same function. If the current line contains a function call, it will execute the entire function without stepping into it.\n",
    "Step In: Executes the current line and, if the line contains a function call, it will step into that function and pause at the first line of the called function.\n",
    "Step Out: Executes the lines of the current function until it returns, then pauses at the line where the function was called."
   ]
  },
  {
   "cell_type": "markdown",
   "id": "5a739263",
   "metadata": {},
   "source": [
    "**10.After you click Continue, when will the debugger stop ?**\n",
    " "
   ]
  },
  {
   "cell_type": "markdown",
   "id": "b7bb172e",
   "metadata": {},
   "source": [
    " After we click Continue, the debugger will stop at the next breakpoint encountered or when the program execution completes."
   ]
  },
  {
   "cell_type": "markdown",
   "id": "daeeb27e",
   "metadata": {},
   "source": [
    " **11. What is the concept of a breakpoint?**"
   ]
  },
  {
   "cell_type": "markdown",
   "id": "7598b0a6",
   "metadata": {},
   "source": [
    "A breakpoint is a designated point in your code where you instruct the debugger to pause program execution. When the debugger encounters a breakpoint during runtime, it stops the program's execution at that specific line of code, allowing you to inspect the program's state, variable values, and perform interactive debugging actions. This feature is incredibly useful for identifying and resolving issues in your code step by step. To set a breakpoint, you usually add a special marker or call a debugger function at the desired location in your code."
   ]
  }
 ],
 "metadata": {
  "kernelspec": {
   "display_name": "Python 3 (ipykernel)",
   "language": "python",
   "name": "python3"
  },
  "language_info": {
   "codemirror_mode": {
    "name": "ipython",
    "version": 3
   },
   "file_extension": ".py",
   "mimetype": "text/x-python",
   "name": "python",
   "nbconvert_exporter": "python",
   "pygments_lexer": "ipython3",
   "version": "3.9.12"
  }
 },
 "nbformat": 4,
 "nbformat_minor": 5
}
