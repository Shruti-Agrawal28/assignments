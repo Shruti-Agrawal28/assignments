{
 "cells": [
  {
   "cell_type": "markdown",
   "id": "2a6fdbbe",
   "metadata": {},
   "source": [
    "### Question 1:\n",
    "Write a program that calculates and prints the value according to the given formula:\n",
    "Q = Square root of [(2 * C * D)/H]\n",
    "Following are the fixed values of C and H:\n",
    "C is 50. H is 30.\n",
    "D is the variable whose values should be input to your program in a comma-separated sequence.\n",
    "Example\n",
    "Let us assume the following comma separated input sequence is given to the program:\n",
    "100,150,180\n",
    "The output of the program should be:18,22,24"
   ]
  },
  {
   "cell_type": "code",
   "execution_count": 1,
   "id": "2d736651",
   "metadata": {},
   "outputs": [
    {
     "name": "stdout",
     "output_type": "stream",
     "text": [
      "18,22,24\n"
     ]
    }
   ],
   "source": [
    "import math\n",
    "\n",
    "def calculate_values(sequence):\n",
    "    C = 50\n",
    "    H = 30\n",
    "    result = []\n",
    "    values = sequence.split(',')\n",
    "    for D in values:\n",
    "        Q = round(math.sqrt((2 * C * int(D)) / H))\n",
    "        result.append(str(Q))\n",
    "    return ','.join(result)\n",
    "\n",
    "# Example usage:\n",
    "input_sequence = '100,150,180'\n",
    "output = calculate_values(input_sequence)\n",
    "print(output)\n"
   ]
  },
  {
   "cell_type": "markdown",
   "id": "4a25b673",
   "metadata": {},
   "source": [
    "### Question 2:\n",
    "Write a program which takes 2 digits, X,Y as input and generates a 2-dimensional array. The element value in the i-th row and j-th column of the array should be i*j.\n",
    "Note: i=0,1.., X-1; j=0,1,¡Y-1.\n",
    "Example\n",
    "Suppose the following inputs are given to the program:\n",
    "3,5\n",
    "Then, the output of the program should be:\n",
    "[[0, 0, 0, 0, 0], [0, 1, 2, 3, 4], [0, 2, 4, 6, 8]] "
   ]
  },
  {
   "cell_type": "code",
   "execution_count": 2,
   "id": "1b721796",
   "metadata": {},
   "outputs": [
    {
     "name": "stdout",
     "output_type": "stream",
     "text": [
      "[[0, 0, 0, 0, 0], [0, 1, 2, 3, 4], [0, 2, 4, 6, 8]]\n"
     ]
    }
   ],
   "source": [
    "def generate_2d_array(X, Y):\n",
    "    result = [[i * j for j in range(Y)] for i in range(X)]\n",
    "    return result\n",
    "\n",
    "# Example usage:\n",
    "X = 3\n",
    "Y = 5\n",
    "output = generate_2d_array(X, Y)\n",
    "print(output)\n"
   ]
  },
  {
   "cell_type": "markdown",
   "id": "076df31f",
   "metadata": {},
   "source": [
    "### Question 3:\n",
    "Write a program that accepts a comma separated sequence of words as input and prints the words in a comma-separated sequence after sorting them alphabetically.\n",
    "Suppose the following input is supplied to the program:\n",
    "without,hello,bag,world\n",
    "Then, the output should be:\n",
    "bag,hello,without,world"
   ]
  },
  {
   "cell_type": "code",
   "execution_count": 3,
   "id": "c0a85fbe",
   "metadata": {},
   "outputs": [
    {
     "name": "stdout",
     "output_type": "stream",
     "text": [
      "bag,hello,without,world\n"
     ]
    }
   ],
   "source": [
    "def sort_words(sequence):\n",
    "    words = sequence.split(',')\n",
    "    sorted_words = sorted(words)\n",
    "    return ','.join(sorted_words)\n",
    "\n",
    "# Example usage:\n",
    "input_sequence = 'without,hello,bag,world'\n",
    "output = sort_words(input_sequence)\n",
    "print(output)\n"
   ]
  },
  {
   "cell_type": "markdown",
   "id": "7620266e",
   "metadata": {},
   "source": [
    "### Question 4:\n",
    "Write a program that accepts a sequence of whitespace separated words as input and prints the words after removing all duplicate words and sorting them alphanumerically.\n",
    "Suppose the following input is supplied to the program:\n",
    "hello world and practice makes perfect and hello world again\n",
    "Then, the output should be:\n",
    "again and hello makes perfect practice world"
   ]
  },
  {
   "cell_type": "code",
   "execution_count": 4,
   "id": "73530281",
   "metadata": {},
   "outputs": [
    {
     "name": "stdout",
     "output_type": "stream",
     "text": [
      "again and hello makes perfect practice world\n"
     ]
    }
   ],
   "source": [
    "def remove_duplicates_and_sort(sequence):\n",
    "    words = sequence.split()\n",
    "    unique_words = list(set(words))\n",
    "    sorted_words = sorted(unique_words)\n",
    "    return ' '.join(sorted_words)\n",
    "\n",
    "# Example usage:\n",
    "input_sequence = 'hello world and practice makes perfect and hello world again'\n",
    "output = remove_duplicates_and_sort(input_sequence)\n",
    "print(output)\n"
   ]
  },
  {
   "cell_type": "markdown",
   "id": "f1a07274",
   "metadata": {},
   "source": [
    "### Question 5:\n",
    "Write a program that accepts a sentence and calculate the number of letters and digits.\n",
    "Suppose the following input is supplied to the program:\n",
    "hello world! 123\n",
    "Then, the output should be:\n",
    "LETTERS 10\n",
    "DIGITS 3"
   ]
  },
  {
   "cell_type": "code",
   "execution_count": 5,
   "id": "f9c42eda",
   "metadata": {},
   "outputs": [
    {
     "name": "stdout",
     "output_type": "stream",
     "text": [
      "LETTERS 10\n",
      "\n",
      "DIGITS 3\n"
     ]
    }
   ],
   "source": [
    "def count_letters_and_digits(sentence):\n",
    "    letters = 0\n",
    "    digits = 0\n",
    "    for char in sentence:\n",
    "        if char.isalpha():\n",
    "            letters += 1\n",
    "        elif char.isdigit():\n",
    "            digits += 1\n",
    "    return f\"LETTERS {letters}\\n\\nDIGITS {digits}\"\n",
    "\n",
    "# Example usage:\n",
    "input_sentence = 'hello world! 123'\n",
    "output = count_letters_and_digits(input_sentence)\n",
    "print(output)\n"
   ]
  },
  {
   "cell_type": "markdown",
   "id": "0ae8c2c6",
   "metadata": {},
   "source": [
    "### Question 6:\n",
    "A website requires the users to input username and password to register. Write a program to check the validity of password input by users.\n",
    "Following are the criteria for checking the password:\n",
    "1. At least 1 letter between [a-z]\n",
    "2. At least 1 number between [0-9]\n",
    "1. At least 1 letter between [A-Z]\n",
    "3. At least 1 character from [$#@]\n",
    "4. Minimum length of transaction password: 6\n",
    "5. Maximum length of transaction password: 12\n",
    "Your program should accept a sequence of comma separated passwords and will check them according to the above criteria. Passwords that match the criteria are to be printed, each separated by a comma.\n",
    "Example\n",
    "If the following passwords are given as input to the program:\n",
    "ABd1234@1,a F1#,2w3E*,2We3345\n",
    "Then, the output of the program should be:\n",
    "ABd1234@1\n"
   ]
  },
  {
   "cell_type": "code",
   "execution_count": 6,
   "id": "5722eef9",
   "metadata": {},
   "outputs": [
    {
     "name": "stdout",
     "output_type": "stream",
     "text": [
      "ABd1234@1\n"
     ]
    }
   ],
   "source": [
    "import re\n",
    "\n",
    "def check_passwords(passwords):\n",
    "    valid_passwords = []\n",
    "    for password in passwords:\n",
    "        if len(password) < 6 or len(password) > 12:\n",
    "            continue\n",
    "        if not re.search(r'[a-z]', password):\n",
    "            continue\n",
    "        if not re.search(r'[0-9]', password):\n",
    "            continue\n",
    "        if not re.search(r'[A-Z]', password):\n",
    "            continue\n",
    "        if not re.search(r'[$#@]', password):\n",
    "            continue\n",
    "        valid_passwords.append(password)\n",
    "    return ','.join(valid_passwords)\n",
    "\n",
    "# Example usage:\n",
    "input_passwords = 'ABd1234@1,aF1#,2w3E*,2We3345'\n",
    "output = check_passwords(input_passwords.split(','))\n",
    "print(output)\n"
   ]
  }
 ],
 "metadata": {
  "kernelspec": {
   "display_name": "Python 3 (ipykernel)",
   "language": "python",
   "name": "python3"
  },
  "language_info": {
   "codemirror_mode": {
    "name": "ipython",
    "version": 3
   },
   "file_extension": ".py",
   "mimetype": "text/x-python",
   "name": "python",
   "nbconvert_exporter": "python",
   "pygments_lexer": "ipython3",
   "version": "3.9.12"
  }
 },
 "nbformat": 4,
 "nbformat_minor": 5
}
