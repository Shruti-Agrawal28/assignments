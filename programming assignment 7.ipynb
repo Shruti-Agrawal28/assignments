{
 "cells": [
  {
   "cell_type": "markdown",
   "id": "98d1de7e",
   "metadata": {},
   "source": [
    "### 1. Write a Python Program to find sum of array?\n"
   ]
  },
  {
   "cell_type": "code",
   "execution_count": 1,
   "id": "ada374a4",
   "metadata": {},
   "outputs": [
    {
     "name": "stdout",
     "output_type": "stream",
     "text": [
      "Sum of the array: 15\n"
     ]
    }
   ],
   "source": [
    "def find_sum(arr):\n",
    "    total_sum = sum(arr)\n",
    "    return total_sum\n",
    "\n",
    "array = [1, 2, 3, 4, 5]\n",
    "sum_of_array = find_sum(array)\n",
    "print(\"Sum of the array:\", sum_of_array)\n"
   ]
  },
  {
   "cell_type": "markdown",
   "id": "01163a16",
   "metadata": {},
   "source": [
    "### 2. Write a Python Program to find largest element in an array?\n"
   ]
  },
  {
   "cell_type": "code",
   "execution_count": 2,
   "id": "5b7355dc",
   "metadata": {},
   "outputs": [
    {
     "name": "stdout",
     "output_type": "stream",
     "text": [
      "Largest element in the array: 45\n"
     ]
    }
   ],
   "source": [
    "def find_largest_element(arr):\n",
    "    max_element = max(arr)\n",
    "    return max_element\n",
    "\n",
    "array = [10, 7, 23, 45, 8]\n",
    "largest_element = find_largest_element(array)\n",
    "print(\"Largest element in the array:\", largest_element)\n"
   ]
  },
  {
   "cell_type": "markdown",
   "id": "97dff37f",
   "metadata": {},
   "source": [
    "### 3. Write a Python Program for array rotation?\n"
   ]
  },
  {
   "cell_type": "code",
   "execution_count": 3,
   "id": "36fd8796",
   "metadata": {},
   "outputs": [
    {
     "name": "stdout",
     "output_type": "stream",
     "text": [
      "Rotated array: [3, 4, 5, 1, 2]\n"
     ]
    }
   ],
   "source": [
    "def rotate_array(arr, k):\n",
    "    rotated_array = arr[k:] + arr[:k]\n",
    "    return rotated_array\n",
    "\n",
    "array = [1, 2, 3, 4, 5]\n",
    "rotation_amount = 2\n",
    "rotated_array = rotate_array(array, rotation_amount)\n",
    "print(\"Rotated array:\", rotated_array)\n"
   ]
  },
  {
   "cell_type": "markdown",
   "id": "ebd6015b",
   "metadata": {},
   "source": [
    "### 4. Write a Python Program to Split the array and add the first part to the end?\n"
   ]
  },
  {
   "cell_type": "code",
   "execution_count": 5,
   "id": "d4a19d70",
   "metadata": {},
   "outputs": [
    {
     "name": "stdout",
     "output_type": "stream",
     "text": [
      "Array after splitting and adding: [4, 5, 1, 2, 3]\n"
     ]
    }
   ],
   "source": [
    "def split_and_add(arr, split_index):\n",
    "    split_array = arr[:split_index]\n",
    "    remaining_array = arr[split_index:]\n",
    "    new_array = remaining_array + split_array\n",
    "    return new_array\n",
    "\n",
    "array = [1, 2, 3, 4, 5]\n",
    "split_index = 3\n",
    "new_array = split_and_add(array, split_index)\n",
    "print(\"Array after splitting and adding:\", new_array)\n"
   ]
  },
  {
   "cell_type": "markdown",
   "id": "6a351494",
   "metadata": {},
   "source": [
    "### 5. Write a Python Program to check if given array is Monotonic?"
   ]
  },
  {
   "cell_type": "code",
   "execution_count": 7,
   "id": "e6dfd80e",
   "metadata": {},
   "outputs": [
    {
     "name": "stdout",
     "output_type": "stream",
     "text": [
      "Array1 is monotonic: True\n",
      "Array2 is monotonic: False\n"
     ]
    }
   ],
   "source": [
    "def is_monotonic(arr):\n",
    "    increasing = decreasing = True\n",
    "\n",
    "    for i in range(1, len(arr)):\n",
    "        if arr[i] < arr[i - 1]:\n",
    "            increasing = False\n",
    "        if arr[i] > arr[i - 1]:\n",
    "            decreasing = False\n",
    "\n",
    "    return increasing or decreasing\n",
    "\n",
    "array1 = [1, 2, 3, 4, 5]\n",
    "array2 = [5, 4, 3, 2, 1,6]\n",
    "\n",
    "print(\"Array1 is monotonic:\", is_monotonic(array1))\n",
    "print(\"Array2 is monotonic:\", is_monotonic(array2))\n"
   ]
  }
 ],
 "metadata": {
  "kernelspec": {
   "display_name": "Python 3 (ipykernel)",
   "language": "python",
   "name": "python3"
  },
  "language_info": {
   "codemirror_mode": {
    "name": "ipython",
    "version": 3
   },
   "file_extension": ".py",
   "mimetype": "text/x-python",
   "name": "python",
   "nbconvert_exporter": "python",
   "pygments_lexer": "ipython3",
   "version": "3.9.12"
  }
 },
 "nbformat": 4,
 "nbformat_minor": 5
}
