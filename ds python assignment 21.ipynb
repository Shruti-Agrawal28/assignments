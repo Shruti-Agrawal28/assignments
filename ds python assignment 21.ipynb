{
 "cells": [
  {
   "cell_type": "markdown",
   "id": "013add69",
   "metadata": {},
   "source": [
    "### 1. Add the current date to the text file today.txt as a string.\n"
   ]
  },
  {
   "cell_type": "code",
   "execution_count": 1,
   "id": "30a64ca5",
   "metadata": {},
   "outputs": [],
   "source": [
    "import datetime\n",
    "\n",
    "current_date = datetime.date.today().strftime(\"%Y-%m-%d\")  \n",
    "with open(\"today.txt\", \"w\") as file:\n",
    "    file.write(current_date) "
   ]
  },
  {
   "cell_type": "markdown",
   "id": "de97092c",
   "metadata": {},
   "source": [
    "### 2. Read the text file today.txt into the string today_string\n"
   ]
  },
  {
   "cell_type": "code",
   "execution_count": 2,
   "id": "eb1f5f60",
   "metadata": {},
   "outputs": [],
   "source": [
    "with open(\"today.txt\", \"r\") as file:\n",
    "    today_string = file.read() "
   ]
  },
  {
   "cell_type": "markdown",
   "id": "d1431ed5",
   "metadata": {},
   "source": [
    "### 3. Parse the date from today_string.\n"
   ]
  },
  {
   "cell_type": "code",
   "execution_count": 3,
   "id": "e022f8c5",
   "metadata": {},
   "outputs": [],
   "source": [
    "parsed_date = datetime.datetime.strptime(today_string, \"%Y-%m-%d\").date() "
   ]
  },
  {
   "cell_type": "markdown",
   "id": "88dc76df",
   "metadata": {},
   "source": [
    "### 4. List the files in your current directory\n"
   ]
  },
  {
   "cell_type": "code",
   "execution_count": 4,
   "id": "e47218ab",
   "metadata": {},
   "outputs": [
    {
     "name": "stdout",
     "output_type": "stream",
     "text": [
      "['-1.14-windows.xml', '.astropy', '.bash_history', '.bash_profile', '.cache', '.conda', '.condarc', '.continuum', '.cufflinks', '.docker', '.dotnet', '.emailgrabber2', '.git', '.gitconfig', '.idlerc', '.ipynb_checkpoints', '.ipython', '.jupyter', '.keras', '.lesshst', '.librarymanager', '.matplotlib', '.streamlit', '.vs', '.vscode', '.vscode-cli', '3D Objects', 'algerian forest.ipynb', 'anaconda3', 'AppData', 'Application Data', 'assignment 1.ipynb', 'Assignment_10.ipynb', 'Assignment_11.ipynb', 'attribute.json', 'avc.csv', 'bluetooth_content_share (2).html', 'bluetooth_content_share.html', 'books.csv', 'books.db', 'books_small.json', 'comments.csv', 'Contacts', 'Cookies', 'customer analysis.ipynb', 'data', 'DB Browser (SQLCipher).lnk', 'DB Browser (SQLite).lnk', 'DECISION TREE REGRESSOR.ipynb', 'decision tree task.txt', 'Decision tree.ipynb', 'deeplearning.ipynb', 'Desktop', 'detectron2', 'dir', 'DL ques 1.ipynb', 'DL ques 2.ipynb', 'DL ques 3.ipynb', 'Documents', 'Downloads', 'dress.json', 'ds python assignment 11.ipynb', 'ds python assignment 12.ipynb', 'ds python assignment 15.ipynb', 'ds python assignment 16.ipynb', 'ds python assignment 17.ipynb', 'ds python assignment 18.ipynb', 'ds python assignment 19.ipynb', 'ds python assignment 20.ipynb', 'ds python assignment 21.ipynb', 'dtdtfyjhf.txt', 'Earth_surface_temperature.ipynb', 'ELECTRIC VEHICLES SALES DROP.ipynb', 'extracted_text.csv', 'Favorites', 'first project .ipynb', 'for loop.ipynb', 'FRAUD TRANSACTION DETECTION.ipynb', 'hggbuh.txt', 'histogram scatter plot .ipynb', 'household electric power consumption.ipynb', 'household_power_consumption.txt', 'income.ipynb', 'IntelGraphicsProfiles', 'iscord.txt', 'java_error_in_pycharm64.hprof', 'lead scoring model.ipynb', 'linear regression.ipynb', 'Links', 'llama model.ipynb', 'Local Settings', 'main.py', 'meteorite_data.csv', 'ML advance 2.ipynb', 'ML advance 3.ipynb', 'ML ques 1.ipynb', 'ML ques 10.ipynb', 'ML ques 2.ipynb', 'ML ques 3.ipynb', 'ML ques 4.ipynb', 'ML ques 5.ipynb', 'ML ques 7.ipynb', 'ML ques 8.ipynb', 'ML ques 9 .ipynb', 'modelForPrediction.sav', 'Music', 'My Documents', 'NetHood', 'NLP ques 1.ipynb', 'NLP ques 2.ipynb', 'NLP ques 3.ipynb', 'NLP ques 4.ipynb', 'NTUSER.DAT', 'ntuser.dat.LOG1', 'ntuser.dat.LOG2', 'NTUSER.DAT{8a1b3165-d244-11ed-a303-dd580e6f16e6}.TM.blf', 'NTUSER.DAT{8a1b3165-d244-11ed-a303-dd580e6f16e6}.TMContainer00000000000000000001.regtrans-ms', 'NTUSER.DAT{8a1b3165-d244-11ed-a303-dd580e6f16e6}.TMContainer00000000000000000002.regtrans-ms', 'ntuser.ini', 'OneDrive', 'output.csv', 'pandas basic.ipynb', 'pandas class 2.ipynb - Google Drive.mhtml', 'PANDAS TASK.ipynb', 'personal tkon.txt', 'Pictures', 'pokedex.json', 'pokemon.xlsx', 'Postman', 'ppt assignment 10.ipynb', 'ppt assignment 11.ipynb', 'ppt assignment 12.ipynb', 'ppt assignment 13.ipynb', 'ppt assignment 15.ipynb', 'ppt assignment 16.ipynb', 'ppt assignment 17.ipynb', 'ppt assignment 18.ipynb', 'ppt assignment 2.ipynb', 'ppt assignment 3.ipynb', 'ppt assignment 5.ipynb', 'ppt assignment 6.ipynb', 'ppt assignment 7.ipynb', 'ppt assignment 9.ipynb', 'ppt test.ipynb', 'ppt test_stack_queue.ipynb', 'PrintHood', 'programming_assignment5.ipynb', 'PyacharmProjects', 'PyCharm Community Edition 2021.2.2', 'PycharmProjects', 'question10.ipynb', 'question8.ipynb', 'Recent', 'sales_data_final.csv', 'sample_submission.csv', 'sandardScalar.sav', 'Saved Games', 'scikit_learn_data', 'ScStore', 'seaborn-data', 'Searches', 'seasons.png', 'second project.ipynb', 'SECRET KEY ID.txt', 'SendTo', 'sentiment analysis.ipynb', 'sentiment_tweets3.csv', 'shruti.txt', 'source', 'spam classifier.ipynb', 'Start Menu', 'statistics question02.ipynb', 'statistics question03.ipynb', 'statistics question08.ipynb', 'statistics question09.ipynb', 'statistics question10.ipynb', 'statistics question11.ipynb', 'statistics question12.ipynb', 'statistics question6.ipynb', 'SVC .ipynb', 'SVC_.zip', 'svr.ipynb', 'svr.zip', 'task.ipynb', 'task.regressor.ipynb', 'task_regressor.ipynb', 'temperature.png', 'Templates', 'test.txt', 'test123.csv', 'test456.csv', 'today.txt', 'Tracing', 'Untitled.ipynb', 'Untitled1.ipynb', 'Untitled10.ipynb', 'Untitled18.ipynb', 'Untitled2.ipynb', 'Untitled3.ipynb', 'Untitled4.ipynb', 'Untitled5.ipynb', 'Untitled6.ipynb', 'Untitled7.ipynb', 'Untitled8.ipynb', 'Untitled9.ipynb', 'vgsales.csv', 'Videos', 'winequality-red.csv', 'youtube_comments.csv', 'zoo.py', '__pycache__']\n"
     ]
    }
   ],
   "source": [
    "import os\n",
    "\n",
    "files = os.listdir(\".\")  \n",
    "print(files)"
   ]
  },
  {
   "cell_type": "markdown",
   "id": "e43332e6",
   "metadata": {},
   "source": [
    "### 5. Create a list of all of the files in your parent directory (minimum five files should be available).\n"
   ]
  },
  {
   "cell_type": "code",
   "execution_count": 5,
   "id": "d7ed2009",
   "metadata": {},
   "outputs": [
    {
     "name": "stdout",
     "output_type": "stream",
     "text": [
      "['All Users', 'Default', 'Default User', 'desktop.ini', 'MGC', 'Public']\n"
     ]
    }
   ],
   "source": [
    "parent_directory = os.path.abspath(os.path.join(os.getcwd(), \"..\"))  \n",
    "files = os.listdir(parent_directory) \n",
    "print(files)\n"
   ]
  },
  {
   "cell_type": "markdown",
   "id": "da6a3048",
   "metadata": {},
   "source": [
    "### 6. Use multiprocessing to create three separate processes. Make each one wait a random number of seconds between one and five, print the current time, and then exit."
   ]
  },
  {
   "cell_type": "code",
   "execution_count": 8,
   "id": "f98d8144",
   "metadata": {},
   "outputs": [
    {
     "name": "stdout",
     "output_type": "stream",
     "text": [
      "Current time: 10:54:33\n",
      "Current time: 10:54:32\n",
      "Current time: 10:54:34\n"
     ]
    }
   ],
   "source": [
    "import concurrent.futures\n",
    "import random\n",
    "import time\n",
    "\n",
    "def process_func(_):\n",
    "    wait_time = random.randint(1, 5)\n",
    "    time.sleep(wait_time)\n",
    "    current_time = time.strftime(\"%H:%M:%S\", time.localtime())\n",
    "    return current_time\n",
    "\n",
    "def main():\n",
    "    with concurrent.futures.ThreadPoolExecutor(max_workers=3) as executor:\n",
    "        results = executor.map(process_func, range(3))\n",
    "\n",
    "    for result in results:\n",
    "        print(\"Current time:\", result)\n",
    "\n",
    "if __name__ == \"__main__\":\n",
    "    main()\n"
   ]
  },
  {
   "cell_type": "markdown",
   "id": "56fc60f2",
   "metadata": {},
   "source": [
    "### 7. Create a date object of your day of birth.\n"
   ]
  },
  {
   "cell_type": "code",
   "execution_count": 9,
   "id": "1364b791",
   "metadata": {},
   "outputs": [
    {
     "name": "stdout",
     "output_type": "stream",
     "text": [
      "2001-06-28\n"
     ]
    }
   ],
   "source": [
    "birth_date = datetime.date(2001, 6, 28) \n",
    "print(birth_date)\n"
   ]
  },
  {
   "cell_type": "markdown",
   "id": "0dc008db",
   "metadata": {},
   "source": [
    "### 8. What day of the week was your day of birth?\n"
   ]
  },
  {
   "cell_type": "code",
   "execution_count": 10,
   "id": "e03e0f68",
   "metadata": {},
   "outputs": [
    {
     "name": "stdout",
     "output_type": "stream",
     "text": [
      "Thursday\n"
     ]
    }
   ],
   "source": [
    "day_of_week = birth_date.strftime(\"%A\") \n",
    "print(day_of_week)\n"
   ]
  },
  {
   "cell_type": "markdown",
   "id": "9fa96636",
   "metadata": {},
   "source": [
    "### 9. When will you be (or when were you) 10,000 days old?"
   ]
  },
  {
   "cell_type": "code",
   "execution_count": 11,
   "id": "6ea8497c",
   "metadata": {},
   "outputs": [
    {
     "name": "stdout",
     "output_type": "stream",
     "text": [
      "2028-11-13\n"
     ]
    }
   ],
   "source": [
    "from datetime import timedelta\n",
    "\n",
    "target_date = birth_date + timedelta(days=10000)  \n",
    "print(target_date)\n"
   ]
  }
 ],
 "metadata": {
  "kernelspec": {
   "display_name": "Python 3 (ipykernel)",
   "language": "python",
   "name": "python3"
  },
  "language_info": {
   "codemirror_mode": {
    "name": "ipython",
    "version": 3
   },
   "file_extension": ".py",
   "mimetype": "text/x-python",
   "name": "python",
   "nbconvert_exporter": "python",
   "pygments_lexer": "ipython3",
   "version": "3.9.12"
  }
 },
 "nbformat": 4,
 "nbformat_minor": 5
}
