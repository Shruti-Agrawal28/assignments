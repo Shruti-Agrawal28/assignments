{
 "cells": [
  {
   "cell_type": "markdown",
   "id": "5e98f957",
   "metadata": {},
   "source": [
    "### 1. Write a Python program to check if the given number is a Disarium Number?\n"
   ]
  },
  {
   "cell_type": "code",
   "execution_count": 1,
   "id": "d2bdad7f",
   "metadata": {},
   "outputs": [
    {
     "name": "stdout",
     "output_type": "stream",
     "text": [
      "89 is a Disarium number\n"
     ]
    }
   ],
   "source": [
    "def is_disarium_number(num):\n",
    "    digit_list = list(str(num))\n",
    "    disarium_sum = sum(int(digit) ** (i + 1) for i, digit in enumerate(digit_list))\n",
    "    return disarium_sum == num\n",
    "\n",
    "num = 89\n",
    "is_disarium = is_disarium_number(num)\n",
    "if is_disarium:\n",
    "    print(f\"{num} is a Disarium number\")\n",
    "else:\n",
    "    print(f\"{num} is not a Disarium number\")\n"
   ]
  },
  {
   "cell_type": "markdown",
   "id": "4859249b",
   "metadata": {},
   "source": [
    "### 2. Write a Python program to print all disarium numbers between 1 to 100?\n"
   ]
  },
  {
   "cell_type": "code",
   "execution_count": 2,
   "id": "a74161ad",
   "metadata": {},
   "outputs": [
    {
     "name": "stdout",
     "output_type": "stream",
     "text": [
      "Disarium numbers between 1 and 100:\n",
      "[1, 2, 3, 4, 5, 6, 7, 8, 9, 89]\n"
     ]
    }
   ],
   "source": [
    "def is_disarium_number(num):\n",
    "    digit_list = list(str(num))\n",
    "    disarium_sum = sum(int(digit) ** (i + 1) for i, digit in enumerate(digit_list))\n",
    "    return disarium_sum == num\n",
    "\n",
    "disarium_numbers = []\n",
    "for num in range(1, 101):\n",
    "    if is_disarium_number(num):\n",
    "        disarium_numbers.append(num)\n",
    "\n",
    "print(\"Disarium numbers between 1 and 100:\")\n",
    "print(disarium_numbers)\n"
   ]
  },
  {
   "cell_type": "markdown",
   "id": "973bd76b",
   "metadata": {},
   "source": [
    "### 3. Write a Python program to check if the given number is Happy Number?\n"
   ]
  },
  {
   "cell_type": "code",
   "execution_count": 3,
   "id": "41e16526",
   "metadata": {},
   "outputs": [
    {
     "name": "stdout",
     "output_type": "stream",
     "text": [
      "19 is a Happy number\n"
     ]
    }
   ],
   "source": [
    "def is_happy_number(num):\n",
    "    seen = set()\n",
    "    while num != 1 and num not in seen:\n",
    "        seen.add(num)\n",
    "        num = sum(int(digit) ** 2 for digit in str(num))\n",
    "    return num == 1\n",
    "\n",
    "# Example usage\n",
    "num = 19\n",
    "is_happy = is_happy_number(num)\n",
    "if is_happy:\n",
    "    print(f\"{num} is a Happy number\")\n",
    "else:\n",
    "    print(f\"{num} is not a Happy number\")\n"
   ]
  },
  {
   "cell_type": "markdown",
   "id": "0f3d4b51",
   "metadata": {},
   "source": [
    "### 4. Write a Python program to print all happy numbers between 1 and 100?\n"
   ]
  },
  {
   "cell_type": "code",
   "execution_count": 4,
   "id": "d92ea7d0",
   "metadata": {},
   "outputs": [
    {
     "name": "stdout",
     "output_type": "stream",
     "text": [
      "Happy numbers between 1 and 100:\n",
      "[1, 7, 10, 13, 19, 23, 28, 31, 32, 44, 49, 68, 70, 79, 82, 86, 91, 94, 97, 100]\n"
     ]
    }
   ],
   "source": [
    "def is_happy_number(num):\n",
    "    seen = set()\n",
    "    while num != 1 and num not in seen:\n",
    "        seen.add(num)\n",
    "        num = sum(int(digit) ** 2 for digit in str(num))\n",
    "    return num == 1\n",
    "\n",
    "happy_numbers = []\n",
    "for num in range(1, 101):\n",
    "    if is_happy_number(num):\n",
    "        happy_numbers.append(num)\n",
    "\n",
    "print(\"Happy numbers between 1 and 100:\")\n",
    "print(happy_numbers)\n"
   ]
  },
  {
   "cell_type": "markdown",
   "id": "7e8147fa",
   "metadata": {},
   "source": [
    "### 5. Write a Python program to determine whether the given number is a Harshad Number?\n"
   ]
  },
  {
   "cell_type": "code",
   "execution_count": 5,
   "id": "555a65ab",
   "metadata": {},
   "outputs": [
    {
     "name": "stdout",
     "output_type": "stream",
     "text": [
      "18 is a Harshad number\n"
     ]
    }
   ],
   "source": [
    "def is_harshad_number(num):\n",
    "    digit_sum = sum(int(digit) for digit in str(num))\n",
    "    return num % digit_sum == 0\n",
    "\n",
    "num = 18\n",
    "is_harshad = is_harshad_number(num)\n",
    "if is_harshad:\n",
    "    print(f\"{num} is a Harshad number\")\n",
    "else:\n",
    "    print(f\"{num} is not a Harshad number\")\n"
   ]
  },
  {
   "cell_type": "markdown",
   "id": "6e70d53a",
   "metadata": {},
   "source": [
    "### 6. Write a Python program to print all pronic numbers between 1 and 100?"
   ]
  },
  {
   "cell_type": "code",
   "execution_count": 6,
   "id": "daa10afb",
   "metadata": {},
   "outputs": [
    {
     "name": "stdout",
     "output_type": "stream",
     "text": [
      "Pronic numbers between 1 and 100:\n",
      "[2, 6, 12, 20, 30, 42, 56, 72, 90]\n"
     ]
    }
   ],
   "source": [
    "def is_pronic_number(num):\n",
    "    for i in range(1, num + 1):\n",
    "        if i * (i + 1) == num:\n",
    "            return True\n",
    "    return False\n",
    "\n",
    "pronic_numbers = []\n",
    "for num in range(1, 101):\n",
    "    if is_pronic_number(num):\n",
    "        pronic_numbers.append(num)\n",
    "\n",
    "print(\"Pronic numbers between 1 and 100:\")\n",
    "print(pronic_numbers)\n"
   ]
  }
 ],
 "metadata": {
  "kernelspec": {
   "display_name": "Python 3 (ipykernel)",
   "language": "python",
   "name": "python3"
  },
  "language_info": {
   "codemirror_mode": {
    "name": "ipython",
    "version": 3
   },
   "file_extension": ".py",
   "mimetype": "text/x-python",
   "name": "python",
   "nbconvert_exporter": "python",
   "pygments_lexer": "ipython3",
   "version": "3.9.12"
  }
 },
 "nbformat": 4,
 "nbformat_minor": 5
}
