{
 "cells": [
  {
   "cell_type": "markdown",
   "id": "0951045b",
   "metadata": {},
   "source": [
    "### 1. Write a Python program to find words which are greater than given length k?\n"
   ]
  },
  {
   "cell_type": "code",
   "execution_count": 2,
   "id": "1216a3df",
   "metadata": {},
   "outputs": [
    {
     "name": "stdout",
     "output_type": "stream",
     "text": [
      "Words greater than length 4 : ['sample', 'sentence', 'words', 'greater', 'length']\n"
     ]
    }
   ],
   "source": [
    "def find_words_greater_than_length(words, k):\n",
    "    result = [word for word in words if len(word) > k]\n",
    "    return result\n",
    "\n",
    "# Example usage\n",
    "sentence = \"This is a sample sentence to find words greater than length 4\"\n",
    "word_list = sentence.split()\n",
    "k = 4\n",
    "words_greater_than_k = find_words_greater_than_length(word_list, k)\n",
    "print(\"Words greater than length\", k, \":\", words_greater_than_k)\n"
   ]
  },
  {
   "cell_type": "markdown",
   "id": "19210da8",
   "metadata": {},
   "source": [
    "### 2. Write a Python program for removing i-th character from a string?\n"
   ]
  },
  {
   "cell_type": "code",
   "execution_count": 5,
   "id": "cbbb9bfc",
   "metadata": {},
   "outputs": [
    {
     "name": "stdout",
     "output_type": "stream",
     "text": [
      "New word after removing i-th character: Python\n"
     ]
    }
   ],
   "source": [
    "def remove_ith_character(string, i):\n",
    "    new_string = string[:i] + string[i+1:]\n",
    "    return new_string\n",
    "\n",
    "# Example usage\n",
    "word = \"Pytthon\"\n",
    "i = 2\n",
    "new_word = remove_ith_character(word, i)\n",
    "print(\"New word after removing i-th character:\", new_word)\n"
   ]
  },
  {
   "cell_type": "markdown",
   "id": "6b3ad2c3",
   "metadata": {},
   "source": [
    "### 3. Write a Python program to split and join a string?\n"
   ]
  },
  {
   "cell_type": "code",
   "execution_count": 6,
   "id": "54b88bf6",
   "metadata": {},
   "outputs": [
    {
     "name": "stdout",
     "output_type": "stream",
     "text": [
      "New sentence after splitting and joining: This-is-a-sample-sentence\n"
     ]
    }
   ],
   "source": [
    "def split_and_join_string(string, delimiter):\n",
    "    words = string.split(delimiter)\n",
    "    new_string = '-'.join(words) \n",
    "    return new_string\n",
    "\n",
    "# Example usage\n",
    "sentence = \"This is a sample sentence\"\n",
    "delimiter = ' '\n",
    "new_sentence = split_and_join_string(sentence, delimiter)\n",
    "print(\"New sentence after splitting and joining:\", new_sentence)\n"
   ]
  },
  {
   "cell_type": "markdown",
   "id": "43131b26",
   "metadata": {},
   "source": [
    "### 4. Write a Python to check if a given string is binary string or not?\n"
   ]
  },
  {
   "cell_type": "code",
   "execution_count": 7,
   "id": "a3307374",
   "metadata": {},
   "outputs": [
    {
     "name": "stdout",
     "output_type": "stream",
     "text": [
      "The string is a binary string\n"
     ]
    }
   ],
   "source": [
    "def is_binary_string(string):\n",
    "    binary_set = set('01')\n",
    "    return set(string).issubset(binary_set)\n",
    "\n",
    "# Example usage\n",
    "string = \"101010101\"\n",
    "is_binary = is_binary_string(string)\n",
    "if is_binary:\n",
    "    print(\"The string is a binary string\")\n",
    "else:\n",
    "    print(\"The string is not a binary string\")\n"
   ]
  },
  {
   "cell_type": "markdown",
   "id": "52b0e3ad",
   "metadata": {},
   "source": [
    "### 5. Write a Python program to find uncommon words from two Strings?\n"
   ]
  },
  {
   "cell_type": "code",
   "execution_count": 8,
   "id": "1ab80241",
   "metadata": {},
   "outputs": [
    {
     "name": "stdout",
     "output_type": "stream",
     "text": [
      "Uncommon words: {'sample', 'another', 'a'}\n"
     ]
    }
   ],
   "source": [
    "def find_uncommon_words(string1, string2):\n",
    "    words1 = set(string1.split())\n",
    "    words2 = set(string2.split())\n",
    "    uncommon_words = words1.symmetric_difference(words2)\n",
    "    return uncommon_words\n",
    "\n",
    "# Example usage\n",
    "sentence1 = \"This is a sample sentence\"\n",
    "sentence2 = \"This is another sentence\"\n",
    "uncommon_words = find_uncommon_words(sentence1, sentence2)\n",
    "print(\"Uncommon words:\", uncommon_words)\n"
   ]
  },
  {
   "cell_type": "markdown",
   "id": "ec955bde",
   "metadata": {},
   "source": [
    "### 6. Write a Python to find all duplicate characters in string?\n"
   ]
  },
  {
   "cell_type": "code",
   "execution_count": 9,
   "id": "1a3d52d6",
   "metadata": {},
   "outputs": [
    {
     "name": "stdout",
     "output_type": "stream",
     "text": [
      "Duplicate characters: {'g', 'm', 'r'}\n"
     ]
    }
   ],
   "source": [
    "def find_duplicate_characters(string):\n",
    "    duplicate_chars = set()\n",
    "    for char in string:\n",
    "        if string.count(char) > 1:\n",
    "            duplicate_chars.add(char)\n",
    "    return duplicate_chars\n",
    "\n",
    "# Example usage\n",
    "word = \"Programming\"\n",
    "duplicate_chars = find_duplicate_characters(word)\n",
    "print(\"Duplicate characters:\", duplicate_chars)\n"
   ]
  },
  {
   "cell_type": "markdown",
   "id": "96057628",
   "metadata": {},
   "source": [
    "### 7. Write a Python Program to check if a string contains any special character?"
   ]
  },
  {
   "cell_type": "code",
   "execution_count": 10,
   "id": "60f723ca",
   "metadata": {},
   "outputs": [
    {
     "name": "stdout",
     "output_type": "stream",
     "text": [
      "The string contains special characters\n"
     ]
    }
   ],
   "source": [
    "import re\n",
    "\n",
    "def contains_special_character(string):\n",
    "    pattern = re.compile('[\\W_]+')\n",
    "    return bool(pattern.search(string))\n",
    "\n",
    "# Example usage\n",
    "word = \"Hello!\"\n",
    "contains_special = contains_special_character(word)\n",
    "if contains_special:\n",
    "    print(\"The string contains special characters\")\n",
    "else:\n",
    "    print(\"The string does not contain special characters\")\n"
   ]
  }
 ],
 "metadata": {
  "kernelspec": {
   "display_name": "Python 3 (ipykernel)",
   "language": "python",
   "name": "python3"
  },
  "language_info": {
   "codemirror_mode": {
    "name": "ipython",
    "version": 3
   },
   "file_extension": ".py",
   "mimetype": "text/x-python",
   "name": "python",
   "nbconvert_exporter": "python",
   "pygments_lexer": "ipython3",
   "version": "3.9.12"
  }
 },
 "nbformat": 4,
 "nbformat_minor": 5
}
