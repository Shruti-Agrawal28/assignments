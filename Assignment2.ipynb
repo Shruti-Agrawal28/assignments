{
 "cells": [
  {
   "cell_type": "code",
   "execution_count": 1,
   "id": "87ebd767",
   "metadata": {},
   "outputs": [
    {
     "name": "stdout",
     "output_type": "stream",
     "text": [
      "The two boolean datatypes are True and False.The first character is in upper case and the rest are in lower case.\n"
     ]
    }
   ],
   "source": [
    "#1.What are the two values of the Boolean data type? How do you write them?\n",
    "print('The two boolean data types are True and False.The first character is in upper case and the rest are in lower case.')"
   ]
  },
  {
   "cell_type": "code",
   "execution_count": 3,
   "id": "fc220533",
   "metadata": {},
   "outputs": [
    {
     "name": "stdout",
     "output_type": "stream",
     "text": [
      "The three boolean operators are 'and', 'or', and 'not'\n"
     ]
    }
   ],
   "source": [
    "#2. What are the three different types of Boolean operators?\n",
    "print(\"The three boolean operators are: 'and', 'or', and 'not'\")"
   ]
  },
  {
   "cell_type": "code",
   "execution_count": 7,
   "id": "5e5cf564",
   "metadata": {
    "collapsed": true
   },
   "outputs": [
    {
     "ename": "SyntaxError",
     "evalue": "EOL while scanning string literal (2388528926.py, line 3)",
     "output_type": "error",
     "traceback": [
      "\u001b[1;36m  Input \u001b[1;32mIn [7]\u001b[1;36m\u001b[0m\n\u001b[1;33m    print('AND - (False and False = False, True and False = False, True and True = True),\u001b[0m\n\u001b[1;37m                                                                                         ^\u001b[0m\n\u001b[1;31mSyntaxError\u001b[0m\u001b[1;31m:\u001b[0m EOL while scanning string literal\n"
     ]
    }
   ],
   "source": [
    "#3. Make a list of each Boolean operator's truth tables\n",
    "#(i.e. every possible combination of Boolean values for the operator and what it evaluate ).\n",
    "AND - (False and False = False: if two false values are given then it will return false \n",
    "       True and False = False: if one false value and one triue value is given then it will return false \n",
    "       True and True = True: if two true values are given then it will return true )"
   ]
  },
  {
   "cell_type": "code",
   "execution_count": null,
   "id": "7229e4b6",
   "metadata": {},
   "outputs": [],
   "source": [
    "OR  - (False or False = False: if two false values are given then it will return false \n",
    "       True or False = True: if one false value and one triue value is given then it will return True \n",
    "       True or True = True: if two false values are given then it will return false )"
   ]
  },
  {
   "cell_type": "code",
   "execution_count": null,
   "id": "90fea4d3",
   "metadata": {},
   "outputs": [],
   "source": [
    "NOT - (False not = True, \n",
    "       True not = False)\n",
    "when we use not it returns True when opperand is False and returns False when opperand is True"
   ]
  },
  {
   "cell_type": "code",
   "execution_count": 24,
   "id": "aeacd7c0",
   "metadata": {},
   "outputs": [
    {
     "data": {
      "text/plain": [
       "True"
      ]
     },
     "execution_count": 24,
     "metadata": {},
     "output_type": "execute_result"
    }
   ],
   "source": [
    "#4.The values are:\n",
    "(5 > 4) and (3 == 5) == False"
   ]
  },
  {
   "cell_type": "code",
   "execution_count": 16,
   "id": "19d72e06",
   "metadata": {},
   "outputs": [
    {
     "data": {
      "text/plain": [
       "False"
      ]
     },
     "execution_count": 16,
     "metadata": {},
     "output_type": "execute_result"
    }
   ],
   "source": [
    "not (5 > 4) == False"
   ]
  },
  {
   "cell_type": "code",
   "execution_count": 17,
   "id": "5a3996df",
   "metadata": {},
   "outputs": [
    {
     "data": {
      "text/plain": [
       "True"
      ]
     },
     "execution_count": 17,
     "metadata": {},
     "output_type": "execute_result"
    }
   ],
   "source": [
    "(5 > 4) or (3 == 5) == True"
   ]
  },
  {
   "cell_type": "code",
   "execution_count": 27,
   "id": "ec449241",
   "metadata": {},
   "outputs": [
    {
     "data": {
      "text/plain": [
       "True"
      ]
     },
     "execution_count": 27,
     "metadata": {},
     "output_type": "execute_result"
    }
   ],
   "source": [
    "not((5 > 4) or (3 == 5)) == False"
   ]
  },
  {
   "cell_type": "code",
   "execution_count": 26,
   "id": "a4e91222",
   "metadata": {},
   "outputs": [
    {
     "data": {
      "text/plain": [
       "True"
      ]
     },
     "execution_count": 26,
     "metadata": {},
     "output_type": "execute_result"
    }
   ],
   "source": [
    "(True and True) and (True == False) == False"
   ]
  },
  {
   "cell_type": "code",
   "execution_count": 25,
   "id": "8d412726",
   "metadata": {},
   "outputs": [
    {
     "data": {
      "text/plain": [
       "True"
      ]
     },
     "execution_count": 25,
     "metadata": {},
     "output_type": "execute_result"
    }
   ],
   "source": [
    "(not False) or (not True) == True"
   ]
  },
  {
   "cell_type": "code",
   "execution_count": null,
   "id": "c10400eb",
   "metadata": {},
   "outputs": [],
   "source": [
    "#5. What are the six comparison operators?\n",
    "The six comparison operators are:\n",
    "    equal to ==\n",
    "    not euqal to !=\n",
    "    greater than  >\n",
    "    greater than equal to >=\n",
    "    less than <\n",
    "    less than equal to <="
   ]
  },
  {
   "cell_type": "code",
   "execution_count": null,
   "id": "a83abf76",
   "metadata": {},
   "outputs": [],
   "source": [
    "#6. How do you tell the difference between the equal to and assignment operators?Describe a\n",
    "#condition and when you would use one.\n",
    "ANS - The assignment operator consists of '=' whereas equal operator consists of '=='.\n",
    "      The '=' assignment operator is used to assign the value on the right to the value on the left \n",
    "      and the '==' equal operator checks if the two values are equal or not then returns a boolean value i.e, True or False\n",
    "EXAMPLE- Assignment operator a = 10;\n",
    "         Equal operator 5 == 5"
   ]
  },
  {
   "cell_type": "code",
   "execution_count": null,
   "id": "b2aa450a",
   "metadata": {},
   "outputs": [],
   "source": [
    "#7. Identify the three blocks in this code:\n",
    "spam = 0\n",
    "if spam == 10:\n",
    "    print('eggs')      #BLOCK A\n",
    "    if spam > 5:       #BLOCK A\n",
    "        print('bacon') #BLOCK B INSIDE BLOCK A\n",
    "    else:              #BLOCK A\n",
    "        print('ham')   #BLOCK C INSIDE BLOCK A\n",
    "    print('spam')      #BLOCK A\n",
    "print('spam')"
   ]
  },
  {
   "cell_type": "code",
   "execution_count": 32,
   "id": "560dc618",
   "metadata": {},
   "outputs": [
    {
     "name": "stdout",
     "output_type": "stream",
     "text": [
      "Greetings!\n"
     ]
    }
   ],
   "source": [
    "#8. Write code that prints Hello if 1 is stored in spam, prints Howdy if 2 is stored in spam, and prints\n",
    "#Greetings! if anything else is stored in spam.'\n",
    "spam = 0\n",
    "if spam == 1:\n",
    "    print('Hello')\n",
    "elif spam == 2:\n",
    "    print('Howdy')\n",
    "else:\n",
    "    print('Greetings!')"
   ]
  },
  {
   "cell_type": "code",
   "execution_count": 33,
   "id": "82145db3",
   "metadata": {},
   "outputs": [],
   "source": [
    "#9.If your programme is stuck in an endless loop, what keys you’ll press?\n",
    "ANS- We can press stop button to stop the process\n",
    "     we can also press ctrl+ C\n",
    "     We can also use break statement."
   ]
  },
  {
   "cell_type": "code",
   "execution_count": null,
   "id": "a000deb9",
   "metadata": {},
   "outputs": [],
   "source": [
    "#10. How can you tell the difference between break and continue?\n",
    "ANS - The Break statement breaks the whole process\n",
    "      whereas the continue statment breaks the current iteration and not the whole process."
   ]
  },
  {
   "cell_type": "code",
   "execution_count": null,
   "id": "f8dbb753",
   "metadata": {},
   "outputs": [],
   "source": [
    "#11. In a for loop, what is the difference between range(10), range(0, 10), and range(0, 10, 1)?\n",
    "They are all the same"
   ]
  },
  {
   "cell_type": "code",
   "execution_count": 41,
   "id": "3ed9fc8f",
   "metadata": {
    "collapsed": true
   },
   "outputs": [
    {
     "name": "stdout",
     "output_type": "stream",
     "text": [
      "0\n",
      "1\n",
      "2\n",
      "3\n",
      "4\n",
      "5\n",
      "6\n",
      "7\n",
      "8\n",
      "9\n"
     ]
    }
   ],
   "source": [
    "for i in range(10):\n",
    "    print(i)"
   ]
  },
  {
   "cell_type": "code",
   "execution_count": 39,
   "id": "a41ff980",
   "metadata": {
    "collapsed": true
   },
   "outputs": [
    {
     "name": "stdout",
     "output_type": "stream",
     "text": [
      "0\n",
      "1\n",
      "2\n",
      "3\n",
      "4\n",
      "5\n",
      "6\n",
      "7\n",
      "8\n",
      "9\n"
     ]
    }
   ],
   "source": [
    "for i in range(0, 10):\n",
    "    print(i)"
   ]
  },
  {
   "cell_type": "code",
   "execution_count": 40,
   "id": "3126226e",
   "metadata": {
    "collapsed": true
   },
   "outputs": [
    {
     "name": "stdout",
     "output_type": "stream",
     "text": [
      "0\n",
      "1\n",
      "2\n",
      "3\n",
      "4\n",
      "5\n",
      "6\n",
      "7\n",
      "8\n",
      "9\n"
     ]
    }
   ],
   "source": [
    "for i in range(0, 10, 1):\n",
    "    print(i)"
   ]
  },
  {
   "cell_type": "code",
   "execution_count": 42,
   "id": "d4ba952a",
   "metadata": {
    "collapsed": true
   },
   "outputs": [
    {
     "name": "stdout",
     "output_type": "stream",
     "text": [
      "0\n",
      "1\n",
      "2\n",
      "3\n",
      "4\n",
      "5\n",
      "6\n",
      "7\n",
      "8\n",
      "9\n"
     ]
    }
   ],
   "source": [
    "#12. Write a short program that prints the numbers 1 to 10 using a for loop. Then write an equivalent\n",
    "#program that prints the numbers 1 to 10 using a while loop.\n",
    "for i in range(0, 10):\n",
    "    print(i)"
   ]
  },
  {
   "cell_type": "code",
   "execution_count": 5,
   "id": "9683965a",
   "metadata": {},
   "outputs": [
    {
     "name": "stdout",
     "output_type": "stream",
     "text": [
      "1\n",
      "2\n",
      "3\n",
      "4\n",
      "5\n",
      "6\n",
      "7\n",
      "8\n",
      "9\n",
      "10\n"
     ]
    }
   ],
   "source": [
    "i = 0\n",
    "while i <= 9:\n",
    "    i += 1\n",
    "    print(i)"
   ]
  },
  {
   "cell_type": "code",
   "execution_count": null,
   "id": "77c46b84",
   "metadata": {},
   "outputs": [],
   "source": [
    "#13. If you had a function named bacon() inside a module named spam, how would you call it after importing spam?\n",
    "ANS - import spam\n",
    "      spam.bacon()"
   ]
  }
 ],
 "metadata": {
  "kernelspec": {
   "display_name": "Python 3 (ipykernel)",
   "language": "python",
   "name": "python3"
  },
  "language_info": {
   "codemirror_mode": {
    "name": "ipython",
    "version": 3
   },
   "file_extension": ".py",
   "mimetype": "text/x-python",
   "name": "python",
   "nbconvert_exporter": "python",
   "pygments_lexer": "ipython3",
   "version": "3.9.12"
  }
 },
 "nbformat": 4,
 "nbformat_minor": 5
}
