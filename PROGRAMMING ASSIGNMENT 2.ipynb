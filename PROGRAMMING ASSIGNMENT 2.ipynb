{
 "cells": [
  {
   "cell_type": "code",
   "execution_count": 1,
   "id": "461891c2",
   "metadata": {
    "collapsed": true
   },
   "outputs": [
    {
     "name": "stdout",
     "output_type": "stream",
     "text": [
      "Object `miles` not found.\n",
      "Object `Fahrenheit` not found.\n",
      "Object `calendar` not found.\n",
      "Object `equation` not found.\n",
      "Object `variable` not found.\n"
     ]
    }
   ],
   "source": [
    "1. Write a Python program to convert kilometers to miles?\n",
    "2. Write a Python program to convert Celsius to Fahrenheit?\n",
    "3. Write a Python program to display calendar?\n",
    "4. Write a Python program to solve quadratic equation?\n",
    "5. Write a Python program to swap two variables without temp variable?"
   ]
  },
  {
   "cell_type": "code",
   "execution_count": 1,
   "id": "8beea63f",
   "metadata": {},
   "outputs": [],
   "source": [
    "def km_tomile(a):\n",
    "    return a * 0.621"
   ]
  },
  {
   "cell_type": "code",
   "execution_count": 2,
   "id": "03a557fd",
   "metadata": {},
   "outputs": [],
   "source": [
    "def fahrenheit(a):\n",
    "    return (a * 1.8) + 32"
   ]
  },
  {
   "cell_type": "code",
   "execution_count": 3,
   "id": "976f2197",
   "metadata": {},
   "outputs": [],
   "source": [
    "import calendar\n",
    "def calendar_(a):\n",
    "    print(calendar.calendar(a), end= \" \")"
   ]
  },
  {
   "cell_type": "code",
   "execution_count": 4,
   "id": "7a8e9d20",
   "metadata": {},
   "outputs": [],
   "source": [
    "def quad_eq(a, b, c):\n",
    "    return (- b +((b ** 2 - 4*a*c) ** 0.5))/ 2 * a, (- b -((b ** 2 - 4*a*c) ** 0.5))/ 2 * a"
   ]
  },
  {
   "cell_type": "code",
   "execution_count": 5,
   "id": "a3b73754",
   "metadata": {},
   "outputs": [],
   "source": [
    "def swap(a, b):\n",
    "    a = a + b \n",
    "    b = a - b\n",
    "    a = a - b\n",
    "    print(\"a: \", a)\n",
    "    print(\"b: \", b)"
   ]
  }
 ],
 "metadata": {
  "kernelspec": {
   "display_name": "Python 3 (ipykernel)",
   "language": "python",
   "name": "python3"
  },
  "language_info": {
   "codemirror_mode": {
    "name": "ipython",
    "version": 3
   },
   "file_extension": ".py",
   "mimetype": "text/x-python",
   "name": "python",
   "nbconvert_exporter": "python",
   "pygments_lexer": "ipython3",
   "version": "3.9.12"
  }
 },
 "nbformat": 4,
 "nbformat_minor": 5
}
