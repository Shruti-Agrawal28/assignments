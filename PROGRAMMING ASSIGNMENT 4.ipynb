{
 "cells": [
  {
   "cell_type": "code",
   "execution_count": null,
   "id": "2b01730f",
   "metadata": {},
   "outputs": [],
   "source": [
    "1. Write a Python Program to Find the Factorial of a Number?\n",
    "2. Write a Python Program to Display the multiplication Table?\n",
    "3. Write a Python Program to Print the Fibonacci sequence?\n",
    "4. Write a Python Program to Check Armstrong Number?\n",
    "5. Write a Python Program to Find Armstrong Number in an Interval?\n",
    "6. Write a Python Program to Find the Sum of Natural Numbers?"
   ]
  },
  {
   "cell_type": "code",
   "execution_count": 1,
   "id": "d9fe0ffb",
   "metadata": {},
   "outputs": [],
   "source": [
    "import numpy as np\n",
    "def factorial(a):\n",
    "        print(np.product(range(1, a+1)))\n",
    "        "
   ]
  },
  {
   "cell_type": "code",
   "execution_count": 2,
   "id": "cadb66fb",
   "metadata": {},
   "outputs": [],
   "source": [
    "def prod_table(a):\n",
    "    for i in range(1, 11):\n",
    "        print(a, \"x\", i, \"=\", np.multiply(i, a))"
   ]
  },
  {
   "cell_type": "code",
   "execution_count": 3,
   "id": "d38149ab",
   "metadata": {},
   "outputs": [],
   "source": [
    "def fibonacci(n):\n",
    "    a = 0\n",
    "    b = 1\n",
    "    if n == 1:\n",
    "        print(a)\n",
    "    if a >= 0:\n",
    "        print(0)\n",
    "        print(1)\n",
    "        for i in range(2, n):\n",
    "            c = a + b\n",
    "            a = b\n",
    "            b = c\n",
    "            print(c)\n",
    "        "
   ]
  },
  {
   "cell_type": "code",
   "execution_count": 4,
   "id": "69b0a5da",
   "metadata": {},
   "outputs": [],
   "source": [
    "def armstrong(a):\n",
    "    order = len(str(a))\n",
    "    sum = 0\n",
    "    b =  a\n",
    "    while b > 0:\n",
    "        d = b % 10\n",
    "        sum += d ** order\n",
    "        b //= 10\n",
    "    if a == sum:\n",
    "        print('The number is an armstrong number')\n",
    "    else:\n",
    "        print('The number is not an armstrong number')\n",
    "        "
   ]
  },
  {
   "cell_type": "code",
   "execution_count": 5,
   "id": "2e0fa19d",
   "metadata": {},
   "outputs": [],
   "source": [
    "def arm_num(n):\n",
    "    for i in range(n):\n",
    "        o = len(str(i))\n",
    "        s = 0\n",
    "        b = i\n",
    "        while b > 0:\n",
    "            d = b % 10\n",
    "            s += d ** o\n",
    "            b //= 10\n",
    "        if i == s:\n",
    "            print(i)\n",
    "        else:\n",
    "            continue"
   ]
  },
  {
   "cell_type": "code",
   "execution_count": 6,
   "id": "9f99c651",
   "metadata": {},
   "outputs": [],
   "source": [
    "def sum_natural(n):\n",
    "    if n <= 0:\n",
    "        print('Enter a natural number')\n",
    "    else:\n",
    "        l = []\n",
    "        for i in range(n + 1):\n",
    "            l.append(i)\n",
    "        return sum(l)"
   ]
  }
 ],
 "metadata": {
  "kernelspec": {
   "display_name": "Python 3 (ipykernel)",
   "language": "python",
   "name": "python3"
  },
  "language_info": {
   "codemirror_mode": {
    "name": "ipython",
    "version": 3
   },
   "file_extension": ".py",
   "mimetype": "text/x-python",
   "name": "python",
   "nbconvert_exporter": "python",
   "pygments_lexer": "ipython3",
   "version": "3.9.12"
  }
 },
 "nbformat": 4,
 "nbformat_minor": 5
}
