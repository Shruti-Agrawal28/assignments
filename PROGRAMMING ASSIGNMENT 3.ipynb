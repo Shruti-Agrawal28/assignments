{
 "cells": [
  {
   "cell_type": "code",
   "execution_count": null,
   "id": "d94ffcf7",
   "metadata": {},
   "outputs": [],
   "source": [
    "1. Write a Python Program to Check if a Number is Positive, Negative or Zero?\n",
    "2. Write a Python Program to Check if a Number is Odd or Even?\n",
    "3. Write a Python Program to Check Leap Year?\n",
    "4. Write a Python Program to Check Prime Number?\n",
    "5. Write a Python Program to Print all Prime Numbers in an Interval of 1-10000?"
   ]
  },
  {
   "cell_type": "code",
   "execution_count": 1,
   "id": "7435e31e",
   "metadata": {},
   "outputs": [],
   "source": [
    "def func(a):\n",
    "    if a > 0:\n",
    "        print(\"The number is positive\")\n",
    "    elif a < 0:\n",
    "        print(\"The number is negative\")\n",
    "    elif a == 0:\n",
    "        print('The number is zero')        "
   ]
  },
  {
   "cell_type": "code",
   "execution_count": 2,
   "id": "6a5cb632",
   "metadata": {},
   "outputs": [],
   "source": [
    "def func1(a):\n",
    "    if a % 2 == 0:\n",
    "        print('The number is even')\n",
    "    else:\n",
    "        print('The number is odd')"
   ]
  },
  {
   "cell_type": "code",
   "execution_count": 3,
   "id": "a32a9dd5",
   "metadata": {},
   "outputs": [],
   "source": [
    "import calendar\n",
    "def leap_year(a):\n",
    "    if calendar.leapdays(a, a+ 1) == 1:\n",
    "        print(\"Yes, the year\", a, \"is a leap year\")\n",
    "    else:\n",
    "        print(\"No, the year\", a, \"is not a leap year\")"
   ]
  },
  {
   "cell_type": "code",
   "execution_count": 4,
   "id": "58407adf",
   "metadata": {},
   "outputs": [],
   "source": [
    "def prime_num(a):\n",
    "    if a == 1 or a == 2:\n",
    "        print('The number is a prime number')\n",
    "    if a > 2:    \n",
    "        for i in range(2, a):\n",
    "            if a % i == 0:\n",
    "                print(\"The number is not a prime number\")\n",
    "                break\n",
    "        else:\n",
    "            print(\"The number is a prime number\")\n",
    "       "
   ]
  },
  {
   "cell_type": "code",
   "execution_count": 5,
   "id": "b4dd9999",
   "metadata": {},
   "outputs": [],
   "source": [
    "def prime_1000():\n",
    "    print(1)\n",
    "    for i in range(2, 1000):\n",
    "        status = True\n",
    "        for j in range(2, i):\n",
    "            if i % j == 0:\n",
    "                status = False\n",
    "        if status:\n",
    "            print(i)"
   ]
  }
 ],
 "metadata": {
  "kernelspec": {
   "display_name": "Python 3 (ipykernel)",
   "language": "python",
   "name": "python3"
  },
  "language_info": {
   "codemirror_mode": {
    "name": "ipython",
    "version": 3
   },
   "file_extension": ".py",
   "mimetype": "text/x-python",
   "name": "python",
   "nbconvert_exporter": "python",
   "pygments_lexer": "ipython3",
   "version": "3.9.12"
  }
 },
 "nbformat": 4,
 "nbformat_minor": 5
}
