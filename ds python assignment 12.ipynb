{
 "cells": [
  {
   "cell_type": "markdown",
   "id": "963d3ec9",
   "metadata": {},
   "source": [
    "### 1. In what modes should the PdfFileReader() and PdfFileWriter() File objects will be opened?"
   ]
  },
  {
   "cell_type": "markdown",
   "id": "ce3d79bd",
   "metadata": {},
   "source": [
    "PdfFileReader(): The File object used for reading the PDF should be opened in \"rb\" mode, which stands for \"read binary\". This mode allows reading the binary data of the PDF file.\n",
    "PdfFileWriter(): The File object used for writing or modifying a PDF should be opened in \"wb\" mode, which stands for \"write binary\". This mode allows writing binary data to the PDF file."
   ]
  },
  {
   "cell_type": "markdown",
   "id": "55454969",
   "metadata": {},
   "source": [
    "### 2. From a PdfFileReader object, how do you get a Page object for page 5?\n"
   ]
  },
  {
   "cell_type": "markdown",
   "id": "d930bd35",
   "metadata": {},
   "source": [
    "To get a Page object for page 5 from a PdfFileReader object, you can use the getPage() method and pass the page index (starting from 0) as the argument."
   ]
  },
  {
   "cell_type": "markdown",
   "id": "215d955e",
   "metadata": {},
   "source": [
    "### 3. What PdfFileReader variable stores the number of pages in the PDF document?\n"
   ]
  },
  {
   "cell_type": "markdown",
   "id": "0f5aff3c",
   "metadata": {},
   "source": [
    "The number of pages in a PDF document can be obtained using the numPages variable of a PdfFileReader object. "
   ]
  },
  {
   "cell_type": "markdown",
   "id": "1ac5c6c6",
   "metadata": {},
   "source": [
    "### 4. If a PdfFileReader object’s PDF is encrypted with the password swordfish, what must you do before you can obtain Page objects from it?\n"
   ]
  },
  {
   "cell_type": "markdown",
   "id": "4d3f4008",
   "metadata": {},
   "source": [
    "If a PdfFileReader object's PDF is encrypted with the password \"swordfish\", we need to decrypt it by calling the decrypt() method and passing the correct password as the argument. "
   ]
  },
  {
   "cell_type": "markdown",
   "id": "aa31d18b",
   "metadata": {},
   "source": [
    "### 5. What methods do you use to rotate a page?\n"
   ]
  },
  {
   "cell_type": "markdown",
   "id": "e27439a1",
   "metadata": {},
   "source": [
    "To rotate a page, we can use the rotateClockwise() or rotateCounterClockwise() methods of a Page object. Both methods take the rotation angle in degrees as an argument."
   ]
  },
  {
   "cell_type": "markdown",
   "id": "3cd9f80f",
   "metadata": {},
   "source": [
    "### 6. What is the difference between a Run object and a Paragraph object?"
   ]
  },
  {
   "cell_type": "markdown",
   "id": "62d559bc",
   "metadata": {},
   "source": [
    "A Run object represents a contiguous run of text with the same character formatting within a paragraph. On the other hand, a Paragraph object represents a single paragraph of text. "
   ]
  },
  {
   "cell_type": "markdown",
   "id": "8060432e",
   "metadata": {},
   "source": [
    "### 7. How do you obtain a list of Paragraph objects for a Document object that’s stored in a variable named doc?"
   ]
  },
  {
   "cell_type": "markdown",
   "id": "4f21f036",
   "metadata": {},
   "source": [
    "To obtain a list of Paragraph objects from a Document object stored in a variable named doc, we can use the paragraphs attribute, i.e, \n",
    "\n",
    "**doc.paragraphs.**"
   ]
  },
  {
   "cell_type": "markdown",
   "id": "2f280e41",
   "metadata": {},
   "source": [
    "### 8. What type of object has bold, underline, italic, strike, and outline variables?\n"
   ]
  },
  {
   "cell_type": "markdown",
   "id": "daef1a0a",
   "metadata": {},
   "source": [
    "The Run object in the python-docx library has the variables bold, underline, italic, strike, and outline to represent different formatting options for the text."
   ]
  },
  {
   "cell_type": "markdown",
   "id": "0c04da11",
   "metadata": {},
   "source": [
    "### 9. What is the difference between False, True, and None for the bold variable?\n"
   ]
  },
  {
   "cell_type": "markdown",
   "id": "0e5424f7",
   "metadata": {},
   "source": [
    "In the bold variable of a Run object:\n",
    "\n",
    "-False means the text is not bold.\n",
    "\n",
    "-True means the text is bold.\n",
    "\n",
    "-None means the text may have mixed boldness (some parts are bold, some are not). "
   ]
  },
  {
   "cell_type": "markdown",
   "id": "430481b2",
   "metadata": {},
   "source": [
    "### 10. How do you create a Document object for a new Word document?\n"
   ]
  },
  {
   "cell_type": "markdown",
   "id": "7776900f",
   "metadata": {},
   "source": [
    "To create a Document object for a new Word document, we can simply instantiate the Document class without any arguments.  "
   ]
  },
  {
   "cell_type": "markdown",
   "id": "e2ead0b3",
   "metadata": {},
   "source": [
    "### 11. How do you add a paragraph with the text \"Hello,there!\" to a Document object stored in a variable named doc?"
   ]
  },
  {
   "cell_type": "markdown",
   "id": "43a0d1f9",
   "metadata": {},
   "source": [
    "To add a paragraph with the text \"Hello, there!\" to a Document object stored in a variable named doc, you can use the add_paragraph() method. \n",
    "**doc.add_paragraph('Hello, there!')**"
   ]
  },
  {
   "cell_type": "markdown",
   "id": "445dd07f",
   "metadata": {},
   "source": [
    "### 12. What integers represent the levels of headings available in Word documents? "
   ]
  },
  {
   "cell_type": "markdown",
   "id": "ac1a9a62",
   "metadata": {},
   "source": [
    "The integers representing the levels of headings available in Word documents are:\n",
    "0: Title\n",
    "\n",
    "1: Heading 1\n",
    "\n",
    "2: Heading 2\n",
    "\n",
    "3: Heading 3\n",
    "\n",
    "4: Heading 4\n",
    "\n",
    "5: Heading 5\n",
    "\n",
    "6: Heading 6\n",
    "\n",
    "These levels can be used to specify the hierarchical structure of headings in a Word document using the add_heading() method of a Document object in the python-docx library."
   ]
  }
 ],
 "metadata": {
  "kernelspec": {
   "display_name": "Python 3 (ipykernel)",
   "language": "python",
   "name": "python3"
  },
  "language_info": {
   "codemirror_mode": {
    "name": "ipython",
    "version": 3
   },
   "file_extension": ".py",
   "mimetype": "text/x-python",
   "name": "python",
   "nbconvert_exporter": "python",
   "pygments_lexer": "ipython3",
   "version": "3.9.12"
  }
 },
 "nbformat": 4,
 "nbformat_minor": 5
}
